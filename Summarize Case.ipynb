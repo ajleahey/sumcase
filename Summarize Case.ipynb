{
 "cells": [
  {
   "cell_type": "code",
   "execution_count": 38,
   "metadata": {},
   "outputs": [],
   "source": [
    "import bs4 as bs\n",
    "import urllib.request\n",
    "import re\n",
    "import nltk\n",
    "import heapq\n",
    "\n",
    "#Here I am just pulling a case to demonstrate -- figured Palsgraf is as good as any \n",
    "scraped_data = urllib.request.urlopen('http://www.courts.state.ny.us/reporter/archives/palsgraf_lirr.htm')\n",
    "article = scraped_data.read()\n",
    "\n",
    "parsed_case = bs.BeautifulSoup(article,'lxml')\n",
    "\n",
    "paragraphs = parsed_case.find_all('p')\n",
    "\n",
    "case_text = \"\"\n",
    "\n",
    "for p in paragraphs:\n",
    "    case_text += p.text"
   ]
  },
  {
   "cell_type": "code",
   "execution_count": 39,
   "metadata": {},
   "outputs": [],
   "source": [
    "case_text = re.sub(r'\\[[0-9]*\\]', ' ', case_text)\n",
    "case_text = re.sub(r'\\s+', ' ', article_text)\n",
    "\n",
    "formatted_case_text = re.sub('[^a-zA-Z]', ' ', article_text )\n",
    "formatted_case_text = re.sub(r'\\s+', ' ', formatted_case_text)"
   ]
  },
  {
   "cell_type": "code",
   "execution_count": 40,
   "metadata": {},
   "outputs": [],
   "source": [
    "sentence_list = nltk.sent_tokenize(case_text)\n"
   ]
  },
  {
   "cell_type": "code",
   "execution_count": 41,
   "metadata": {},
   "outputs": [],
   "source": [
    "stopwords = nltk.corpus.stopwords.words('english')\n",
    "\n",
    "word_frequencies = {}\n",
    "for word in nltk.word_tokenize(formatted_case_text):\n",
    "    if word not in stopwords:\n",
    "        if word not in word_frequencies.keys():\n",
    "            word_frequencies[word] = 1\n",
    "        else:\n",
    "            word_frequencies[word] += 1"
   ]
  },
  {
   "cell_type": "code",
   "execution_count": 42,
   "metadata": {},
   "outputs": [],
   "source": [
    "maximum_frequency = max(word_frequencies.values())\n",
    "\n",
    "for word in word_frequencies.keys():\n",
    "    word_frequencies[word] = (word_frequencies[word]/maximum_frequency)"
   ]
  },
  {
   "cell_type": "code",
   "execution_count": 43,
   "metadata": {},
   "outputs": [],
   "source": [
    "sentence_scores = {}\n",
    "for sent in sentence_list:\n",
    "    for word in nltk.word_tokenize(sent.lower()):\n",
    "        if word in word_frequencies.keys():\n",
    "            if len(sent.split(' ')) < 30:\n",
    "                if sent not in sentence_scores.keys():\n",
    "                    sentence_scores[sent] = word_frequencies[word]\n",
    "                else:\n",
    "                    sentence_scores[sent] += word_frequencies[word]"
   ]
  },
  {
   "cell_type": "code",
   "execution_count": 44,
   "metadata": {},
   "outputs": [
    {
     "name": "stdout",
     "output_type": "stream",
     "text": [
      "Harm to some one being the natural result of the act, not only that one alone, but all those in fact injured may complain. The proximate cause, involved as it may be with many other causes, must be, at the least, something without which the event would not happen. Where there is the unreasonable act, and some right that may be affected there is negligence whether damage does or does not result. And here not what the chauffeur had reason to believe would be the result of his conduct, but what the prudent would foresee, may have a bearing. What is a cause in a legal sense, still more what is a proximate cause, depend in each case upon many considerations, as does the existence of negligence itself. May have some bearing, for the problem [*354] of proximate cause is not to be solved by any one consideration.It is all a question of expediency. But the natural results of a negligent actthe results which a prudent man would or should foreseedo have a bearing upon the decision as to proximate cause. The diversity of interests emphasizes the futility of the effort to build the plaintiff's right upon the basis of a wrong to some one else. Even today, and much oftener in earlier stages of the law, one acts sometimes at one's peril (Jeremiah Smith, Tort and Absolute Liability, 30 H. L. Rv. Every one owes to the world at large the duty of refraining from those acts that may unreasonably threaten the safety of others.\n"
     ]
    }
   ],
   "source": [
    "summary_sentences = heapq.nlargest(10, sentence_scores, key=sentence_scores.get)\n",
    "\n",
    "summary = ' '.join(summary_sentences)\n",
    "print(summary)"
   ]
  },
  {
   "cell_type": "code",
   "execution_count": null,
   "metadata": {},
   "outputs": [],
   "source": []
  }
 ],
 "metadata": {
  "kernelspec": {
   "display_name": "Python 3",
   "language": "python",
   "name": "python3"
  },
  "language_info": {
   "codemirror_mode": {
    "name": "ipython",
    "version": 3
   },
   "file_extension": ".py",
   "mimetype": "text/x-python",
   "name": "python",
   "nbconvert_exporter": "python",
   "pygments_lexer": "ipython3",
   "version": "3.7.3"
  }
 },
 "nbformat": 4,
 "nbformat_minor": 4
}
